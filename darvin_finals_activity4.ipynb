{
 "cells": [
  {
   "cell_type": "markdown",
   "metadata": {},
   "source": [
    "## Finals Activity 4\n",
    "*Submitted by:*  \n",
    "**Christian Elijah Darvin**  \n",
    "BCS32  \n",
    "College of Information and Computer Studies - De La Salle University Dasmariñas"
   ]
  },
  {
   "cell_type": "code",
   "execution_count": 48,
   "metadata": {},
   "outputs": [
    {
     "name": "stderr",
     "output_type": "stream",
     "text": [
      "[nltk_data] Downloading package stopwords to\n",
      "[nltk_data]     C:\\Users\\Chris\\AppData\\Roaming\\nltk_data...\n",
      "[nltk_data]   Package stopwords is already up-to-date!\n"
     ]
    },
    {
     "data": {
      "text/plain": [
       "True"
      ]
     },
     "execution_count": 48,
     "metadata": {},
     "output_type": "execute_result"
    }
   ],
   "source": [
    "import nltk\n",
    "from nltk.corpus import stopwords\n",
    "from typing import List\n",
    "\n",
    "nltk.download(\"stopwords\")"
   ]
  },
  {
   "cell_type": "code",
   "execution_count": 49,
   "metadata": {},
   "outputs": [],
   "source": [
    "def remove_stopwords(text, custom_stopwords):\n",
    "    words = text.split()\n",
    "    common_stopwords = set(stopwords.words(\"english\"))\n",
    "    stopwords_set = common_stopwords.union(set(custom_stopwords))\n",
    "\n",
    "    filtered_words = {\n",
    "        word.lower() for word in words if word.lower() not in stopwords_set\n",
    "    }\n",
    "    return filtered_words"
   ]
  },
  {
   "cell_type": "code",
   "execution_count": 50,
   "metadata": {},
   "outputs": [],
   "source": [
    "def calculate_jaccard_similarity(text_1, text_2, custom_stopwords: List[str] = []):\n",
    "    filtered_words_1 = remove_stopwords(text_1, custom_stopwords)\n",
    "    filtered_words_2 = remove_stopwords(text_2, custom_stopwords)\n",
    "\n",
    "    intersection = filtered_words_1.intersection(filtered_words_2)\n",
    "    union = filtered_words_1.union(filtered_words_2)\n",
    "\n",
    "    if len(union) == 0:\n",
    "        return 0\n",
    "\n",
    "    return len(intersection) / len(union)"
   ]
  },
  {
   "cell_type": "code",
   "execution_count": 51,
   "metadata": {},
   "outputs": [
    {
     "name": "stdout",
     "output_type": "stream",
     "text": [
      "Jaccard Similarity: 0.3333333333333333\n"
     ]
    }
   ],
   "source": [
    "text_1 = \"The cat sat on the mat.\"\n",
    "text_2 = \"A cat was sitting on a mat.\"\n",
    "custom_stopwords = [\"cat\"]\n",
    "\n",
    "similarity = calculate_jaccard_similarity(text_1, text_2, custom_stopwords)\n",
    "print(f\"Jaccard Similarity: {similarity}\")"
   ]
  },
  {
   "cell_type": "code",
   "execution_count": 52,
   "metadata": {},
   "outputs": [
    {
     "name": "stdout",
     "output_type": "stream",
     "text": [
      "Jaccard Similarity: 0.8\n"
     ]
    }
   ],
   "source": [
    "text_1 = \"I am learning Computer Science and it is fun.\"\n",
    "text_2 = \"Learning Computer Science is a lot of fun.\"\n",
    "\n",
    "similarity = calculate_jaccard_similarity(text_1, text_2)\n",
    "print(f\"Jaccard Similarity: {similarity}\")"
   ]
  },
  {
   "cell_type": "code",
   "execution_count": 53,
   "metadata": {},
   "outputs": [
    {
     "name": "stdout",
     "output_type": "stream",
     "text": [
      "Jaccard Similarity: 0.125\n"
     ]
    }
   ],
   "source": [
    "text_1 = \"This is a simple example for testing stopwords removal.\"\n",
    "text_2 = \"This is anotehr test case for stopword removal.\"\n",
    "custom_stopwords = [\"simple\", \"this\"]\n",
    "\n",
    "similarity = calculate_jaccard_similarity(text_1, text_2, custom_stopwords)\n",
    "print(f\"Jaccard Similarity: {similarity}\")"
   ]
  }
 ],
 "metadata": {
  "kernelspec": {
   "display_name": "base",
   "language": "python",
   "name": "python3"
  },
  "language_info": {
   "codemirror_mode": {
    "name": "ipython",
    "version": 3
   },
   "file_extension": ".py",
   "mimetype": "text/x-python",
   "name": "python",
   "nbconvert_exporter": "python",
   "pygments_lexer": "ipython3",
   "version": "3.11.7"
  }
 },
 "nbformat": 4,
 "nbformat_minor": 2
}
