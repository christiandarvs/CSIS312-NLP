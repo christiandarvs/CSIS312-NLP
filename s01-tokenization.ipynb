{
 "cells": [
  {
   "cell_type": "code",
   "execution_count": 1,
   "metadata": {},
   "outputs": [
    {
     "name": "stderr",
     "output_type": "stream",
     "text": [
      "[nltk_data] Downloading package punkt to\n",
      "[nltk_data]     C:\\Users\\Chris\\AppData\\Roaming\\nltk_data...\n",
      "[nltk_data]   Package punkt is already up-to-date!\n",
      "[nltk_data] Downloading package stopwords to\n",
      "[nltk_data]     C:\\Users\\Chris\\AppData\\Roaming\\nltk_data...\n",
      "[nltk_data]   Package stopwords is already up-to-date!\n"
     ]
    }
   ],
   "source": [
    "import nltk\n",
    "import spacy\n",
    "from nltk.tokenize import word_tokenize\n",
    "from nltk.corpus import stopwords\n",
    "from spacy.lang.en import English\n",
    "\n",
    "# Download NLTK\n",
    "nltk.download(\"punkt\")\n",
    "nltk.download(\"stopwords\")\n",
    "# tokenizer model used for splitting text into sentences to words\n",
    "\n",
    "nlp = English()"
   ]
  },
  {
   "cell_type": "code",
   "execution_count": 12,
   "metadata": {},
   "outputs": [
    {
     "name": "stdout",
     "output_type": "stream",
     "text": [
      "Tokens: ['This', 'is', 'an', 'Introduction', 'to', 'Natural', 'Language', 'Processing']\n",
      "Tokens: ['Mahilig', 'ako', 'sa', 'Math']\n"
     ]
    }
   ],
   "source": [
    "en_text = \"This is an Introduction to Natural Language Processing\"\n",
    "ph_text = \"Mahilig ako sa Math\"\n",
    "\n",
    "en_token = word_tokenize(en_text)\n",
    "ph_token = word_tokenize(ph_text)\n",
    "\n",
    "print(f\"Tokens: {en_token}\")\n",
    "print(f\"Tokens: {ph_token}\")"
   ]
  },
  {
   "cell_type": "code",
   "execution_count": 10,
   "metadata": {},
   "outputs": [
    {
     "name": "stdout",
     "output_type": "stream",
     "text": [
      "Tokens using SpaCy: ['This', 'is', 'an', 'Introduction', 'to', 'Natural', 'Language', 'Processing']\n"
     ]
    }
   ],
   "source": [
    "doc = nlp(en_text)\n",
    "spacy_tokens = [token.text for token in doc]\n",
    "print(f\"Tokens using SpaCy: {spacy_tokens}\")"
   ]
  },
  {
   "cell_type": "code",
   "execution_count": 14,
   "metadata": {},
   "outputs": [
    {
     "name": "stdout",
     "output_type": "stream",
     "text": [
      "Predicted Sentiment: Negative\n"
     ]
    }
   ],
   "source": [
    "# collection of text document into matrix of toxen\n",
    "from sklearn.feature_extraction.text import CountVectorizer\n",
    "\n",
    "# Naive Bayes Classifier for multinomially distributed data: represents freq or counts\n",
    "from sklearn.naive_bayes import MultinomialNB\n",
    "\n",
    "# Function used to create a pipeline that sequentially combine several processing steps into a single object\n",
    "from sklearn.pipeline import make_pipeline\n",
    "\n",
    "texts = [\n",
    "    \"I love machine learning\",\n",
    "    \"I hate you\",\n",
    "    \"Today is Thursday\",\n",
    "    \"ChatGPT is a tool\",\n",
    "    \"NLP is fun\",\n",
    "    \"I cannot stand errors\",\n",
    "    \"Math is interesting\",\n",
    "    \"Bugs are frustrating\",\n",
    "]\n",
    "labels = [\n",
    "    \"Positive\",\n",
    "    \"Negative\",\n",
    "    \"Neutral\",\n",
    "    \"Neutral\",\n",
    "    \"Positive\",\n",
    "    \"Negative\",\n",
    "    \"Positive\",\n",
    "    \"Negative\",\n",
    "]\n",
    "\n",
    "model = make_pipeline(CountVectorizer(), MultinomialNB())\n",
    "model.fit(texts, labels)\n",
    "\n",
    "user_input = input(\"Enter a text: \")\n",
    "prediction = model.predict([user_input])\n",
    "print(f\"Predicted Sentiment: {prediction[0]}\")"
   ]
  },
  {
   "cell_type": "markdown",
   "metadata": {},
   "source": [
    "**NLTK** (Natural Language Toolkit)\n",
    "\n",
    "Comprehensive library in NLP that provides easy to use interfaces for over 500 corpora and lexical analysis such as WordNet\n",
    "- Classification \n",
    "- Tokenization\n",
    "- Stemming\n",
    "- Tagging\n",
    "- Parsing\n",
    "- Semantic Reasoning"
   ]
  },
  {
   "cell_type": "markdown",
   "metadata": {},
   "source": [
    "```python\n",
    "def preprocess(user_text):\n",
    "    text_token = word_tokenize(user_text.lower())\n",
    "    stopwords_en = stopwords.words(\"english\")\n",
    "    lemmatizer = WordNetLemmatizer()\n",
    "    clean_words = [\n",
    "        lemmatizer.lemmatize(word)\n",
    "        for word in text_token\n",
    "        if word not in punctuation and word not in stopwords_en\n",
    "    ]\n",
    "    return \" \".join(clean_words)\n",
    "```"
   ]
  }
 ],
 "metadata": {
  "kernelspec": {
   "display_name": "base",
   "language": "python",
   "name": "python3"
  },
  "language_info": {
   "codemirror_mode": {
    "name": "ipython",
    "version": 3
   },
   "file_extension": ".py",
   "mimetype": "text/x-python",
   "name": "python",
   "nbconvert_exporter": "python",
   "pygments_lexer": "ipython3",
   "version": "3.11.7"
  }
 },
 "nbformat": 4,
 "nbformat_minor": 2
}
