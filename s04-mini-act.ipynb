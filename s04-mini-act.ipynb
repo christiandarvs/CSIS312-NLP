{
 "cells": [
  {
   "cell_type": "markdown",
   "metadata": {},
   "source": [
    "## Mini Activity: RegEx"
   ]
  },
  {
   "cell_type": "code",
   "execution_count": 12,
   "metadata": {},
   "outputs": [],
   "source": [
    "import re"
   ]
  },
  {
   "cell_type": "code",
   "execution_count": 13,
   "metadata": {},
   "outputs": [
    {
     "name": "stdout",
     "output_type": "stream",
     "text": [
      "2004April\n",
      "No Match\n"
     ]
    }
   ],
   "source": [
    "# 1. Write a regex pattern to match any string that starts with a digit and ends with a letter.\n",
    "\n",
    "start_digit_end_letter = re.compile(r\"^\\d.*[a-zA-Z]$\")\n",
    "\n",
    "texts = [\"2004April\", \"NLP\"]\n",
    "\n",
    "for text in texts:\n",
    "    match_obj = start_digit_end_letter.match(text)\n",
    "    print(match_obj.group() if match_obj else \"No Match\")"
   ]
  },
  {
   "cell_type": "code",
   "execution_count": 14,
   "metadata": {},
   "outputs": [
    {
     "name": "stdout",
     "output_type": "stream",
     "text": [
      "user@example.com: True\n",
      "user.name+123@example.co: True\n",
      "invalid-email@.com: False\n",
      "name@domain: False\n"
     ]
    }
   ],
   "source": [
    "# 2. Create a regex to validate standard email addresses (e.g., user@example.com).\n",
    "def validate_email(email):\n",
    "    regex = r\"^[a-zA-Z0-9._%+-]+@[a-zA-Z0-9.-]+\\.[a-zA-Z]{2,}$\"\n",
    "    if re.match(regex, email):\n",
    "        return True\n",
    "    else:\n",
    "        return False\n",
    "\n",
    "\n",
    "emails = [\n",
    "    \"user@example.com\",\n",
    "    \"user.name+123@example.co\",\n",
    "    \"invalid-email@.com\",\n",
    "    \"name@domain\",\n",
    "]\n",
    "for email in emails:\n",
    "    print(f\"{email}: {validate_email(email)}\")"
   ]
  },
  {
   "cell_type": "code",
   "execution_count": 15,
   "metadata": {},
   "outputs": [
    {
     "name": "stdout",
     "output_type": "stream",
     "text": [
      "(123) 456-7890\n",
      "(987) 654-3210\n",
      "No Match\n"
     ]
    }
   ],
   "source": [
    "# 3. Write a regex pattern that matches US phone numbers in the format (123) 456-7890.\n",
    "phone_number_regex = re.compile(r\"\\(\\d{3}\\) \\d{3}-\\d{4}\")\n",
    "\n",
    "test_numbers = [\"(123) 456-7890\", \"(987) 654-3210\", \"123-456-7890\"]\n",
    "\n",
    "for number in test_numbers:\n",
    "    match_obj = phone_number_regex.match(number)\n",
    "    print(match_obj.group() if match_obj else \"No Match\")"
   ]
  },
  {
   "cell_type": "code",
   "execution_count": 16,
   "metadata": {},
   "outputs": [
    {
     "name": "stdout",
     "output_type": "stream",
     "text": [
      "25/12/2020\n",
      "01/01/1999\n",
      "31/04/2023\n",
      "No Match\n"
     ]
    }
   ],
   "source": [
    "# 4. How would you write a regex to extract dates in the format DD/MM/YYYY from a text?\n",
    "\n",
    "date_regex = re.compile(r\"\\d{2}/\\d{2}/\\d{4}\")\n",
    "\n",
    "dates = [\"25/12/2020\", \"01/01/1999\", \"31/04/2023\", \"12-12-2022\"]\n",
    "\n",
    "# Check for matches\n",
    "for date in dates:\n",
    "    match_obj = date_regex.match(date)\n",
    "    print(match_obj.group() if match_obj else \"No Match\")"
   ]
  },
  {
   "cell_type": "code",
   "execution_count": 17,
   "metadata": {},
   "outputs": [
    {
     "name": "stdout",
     "output_type": "stream",
     "text": [
      "This is a test string with multiple spaces.\n"
     ]
    }
   ],
   "source": [
    "# 5. Write a regex that replaces multiple spaces in a string with a single space.\n",
    "\n",
    "\n",
    "def replace_multiple_spaces(text):\n",
    "    return re.sub(r\"\\s+\", \" \", text)\n",
    "\n",
    "\n",
    "text = \"This   is   a   test    string with  multiple   spaces.\"\n",
    "result = replace_multiple_spaces(text)\n",
    "print(result)"
   ]
  },
  {
   "cell_type": "code",
   "execution_count": 18,
   "metadata": {},
   "outputs": [
    {
     "name": "stdout",
     "output_type": "stream",
     "text": [
      "research.jpg\n",
      "No Match\n",
      "academic_calendar.jpeg\n",
      "image.png\n"
     ]
    }
   ],
   "source": [
    "# 6. Create a regex to match filenames that end with .jpg, .jpeg, or .png.\n",
    "image_extensions = re.compile(r\"^\\S.*\\.(jpg|jpeg|png)$\")\n",
    "\n",
    "files = [\"research.jpg\", \"lab-act.docx\", \"academic_calendar.jpeg\", \"image.png\"]\n",
    "\n",
    "for file in files:\n",
    "    match_obj = image_extensions.match(file)\n",
    "    print(match_obj.group() if match_obj else \"No Match\")"
   ]
  },
  {
   "cell_type": "code",
   "execution_count": 19,
   "metadata": {},
   "outputs": [],
   "source": [
    "# 7. How can you use capturing groups in regex to extract both the area code and the number from a phone number like (123) 456-7890?\n",
    "\n",
    "\n",
    "def extract_phone_number(phone):\n",
    "    regex = r\"\\((\\d{3})\\)\\s(\\d{3}-\\d{4})\"\n",
    "    match = re.match(regex, phone)\n",
    "\n",
    "    if match:\n",
    "        area_code = match.group(1)\n",
    "        number = match.group(2)\n",
    "        return area_code, number\n",
    "    else:\n",
    "        return None\n",
    "\n",
    "\n",
    "phone_number = \"(123) 456-7890\"\n",
    "result = extract_phone_number(phone_number)\n",
    "if result:\n",
    "    area_code, number = result"
   ]
  },
  {
   "cell_type": "code",
   "execution_count": 20,
   "metadata": {},
   "outputs": [
    {
     "name": "stdout",
     "output_type": "stream",
     "text": [
      "['cat']\n"
     ]
    }
   ],
   "source": [
    "# 8. Write a regex to find all occurrences of the word \"cat\" in a sentence, ensuring it only matches as a whole word (not as part of another word).\n",
    "def find_whole_word_cat(text):\n",
    "    regex = r\"\\bcat\\b\"\n",
    "    return re.findall(regex, text)\n",
    "\n",
    "\n",
    "sentence = \"The cat sat on the mat, but the catalog was on the shelf.\"\n",
    "matches = find_whole_word_cat(sentence)\n",
    "print(matches)"
   ]
  },
  {
   "cell_type": "code",
   "execution_count": 21,
   "metadata": {},
   "outputs": [
    {
     "name": "stdout",
     "output_type": "stream",
     "text": [
      "['123-abc', '456 def', '789-ghijk', '012 xyz']\n"
     ]
    }
   ],
   "source": [
    "# 9. Construct a regex pattern that matches a string containing a sequence of digits followed by either a hyphen or a space, and then a sequence of letters.\n",
    "def match_digits_hyphen_or_space_letters(text):\n",
    "    regex = r\"\\d+[- ]+[a-zA-Z]+\"\n",
    "    return re.findall(regex, text)\n",
    "\n",
    "\n",
    "text = \"123-abc 456 def 789-ghijk 012 xyz\"\n",
    "matches = match_digits_hyphen_or_space_letters(text)\n",
    "print(matches)"
   ]
  },
  {
   "cell_type": "code",
   "execution_count": 22,
   "metadata": {},
   "outputs": [
    {
     "name": "stdout",
     "output_type": "stream",
     "text": [
      "HelloWorld123\n"
     ]
    }
   ],
   "source": [
    "# 10. How would you use regex to sanitize a string by removing all non-alphanumeric characters (keeping only letters and numbers)?\n",
    "\n",
    "\n",
    "def sanitize_string(text):\n",
    "    regex = r\"[^a-zA-Z0-9]\"\n",
    "    return re.sub(regex, \"\", text)\n",
    "\n",
    "\n",
    "text = \"Hello, World! 123 @#\"\n",
    "sanitized_text = sanitize_string(text)\n",
    "print(sanitized_text)"
   ]
  }
 ],
 "metadata": {
  "kernelspec": {
   "display_name": "base",
   "language": "python",
   "name": "python3"
  },
  "language_info": {
   "codemirror_mode": {
    "name": "ipython",
    "version": 3
   },
   "file_extension": ".py",
   "mimetype": "text/x-python",
   "name": "python",
   "nbconvert_exporter": "python",
   "pygments_lexer": "ipython3",
   "version": "3.11.7"
  }
 },
 "nbformat": 4,
 "nbformat_minor": 2
}
