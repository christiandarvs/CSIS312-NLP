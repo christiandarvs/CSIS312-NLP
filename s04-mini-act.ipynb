{
 "cells": [
  {
   "cell_type": "code",
   "execution_count": 1,
   "metadata": {},
   "outputs": [],
   "source": [
    "import re"
   ]
  },
  {
   "cell_type": "code",
   "execution_count": 40,
   "metadata": {},
   "outputs": [
    {
     "name": "stdout",
     "output_type": "stream",
     "text": [
      "2004April\n",
      "No Match\n"
     ]
    }
   ],
   "source": [
    "# 1. Write a regex pattern to match any string that starts with a digit and ends with a letter.\n",
    "\n",
    "start_digit_end_letter = re.compile(r\"^\\d.*[a-zA-Z]$\")\n",
    "\n",
    "texts = [\"2004April\", \"NLP\"]\n",
    "\n",
    "for text in texts:\n",
    "    match_obj = start_digit_end_letter.match(text)\n",
    "    print(match_obj.group() if match_obj else \"No Match\")"
   ]
  },
  {
   "cell_type": "code",
   "execution_count": 57,
   "metadata": {},
   "outputs": [
    {
     "name": "stdout",
     "output_type": "stream",
     "text": [
      "(123) 456-7890\n",
      "(987) 654-3210\n",
      "No Match\n"
     ]
    }
   ],
   "source": [
    "# 3. Write a regex pattern that matches US phone numbers in the format (123) 456-7890.\n",
    "phone_number_regex = re.compile(r\"\\(\\d{3}\\) \\d{3}-\\d{4}\")\n",
    "\n",
    "test_numbers = [\"(123) 456-7890\", \"(987) 654-3210\", \"123-456-7890\"]\n",
    "\n",
    "for number in test_numbers:\n",
    "    match_obj = phone_number_regex.match(number)\n",
    "    print(match_obj.group() if match_obj else \"No Match\")"
   ]
  },
  {
   "cell_type": "code",
   "execution_count": 58,
   "metadata": {},
   "outputs": [
    {
     "name": "stdout",
     "output_type": "stream",
     "text": [
      "25/12/2020\n",
      "01/01/1999\n",
      "31/04/2023\n",
      "No Match\n"
     ]
    }
   ],
   "source": [
    "# 4. How would you write a regex to extract dates in the format DD/MM/YYYY from a text?\n",
    "\n",
    "date_regex = re.compile(r\"\\d{2}/\\d{2}/\\d{4}\")\n",
    "\n",
    "dates = [\"25/12/2020\", \"01/01/1999\", \"31/04/2023\", \"12-12-2022\"]\n",
    "\n",
    "# Check for matches\n",
    "for date in dates:\n",
    "    match_obj = date_regex.match(date)\n",
    "    print(match_obj.group() if match_obj else \"No Match\")"
   ]
  },
  {
   "cell_type": "code",
   "execution_count": null,
   "metadata": {},
   "outputs": [],
   "source": [
    "# 5. Write a regex that replaces multiple spaces in a string with a single space.\n"
   ]
  },
  {
   "cell_type": "code",
   "execution_count": 55,
   "metadata": {},
   "outputs": [
    {
     "name": "stdout",
     "output_type": "stream",
     "text": [
      "research.jpg\n",
      "No Match\n",
      "academic_calendar.jpeg\n",
      "image.png\n"
     ]
    }
   ],
   "source": [
    "# 6. Create a regex to match filenames that end with .jpg, .jpeg, or .png.\n",
    "image_extensions = re.compile(r\"^\\S.*\\.(jpg|jpeg|png)$\")\n",
    "\n",
    "files = [\"research.jpg\", \"lab-act.docx\", \"academic_calendar.jpeg\", \"image.png\"]\n",
    "\n",
    "for file in files:\n",
    "    match_obj = image_extensions.match(file)\n",
    "    print(match_obj.group() if match_obj else \"No Match\")"
   ]
  }
 ],
 "metadata": {
  "kernelspec": {
   "display_name": "base",
   "language": "python",
   "name": "python3"
  },
  "language_info": {
   "codemirror_mode": {
    "name": "ipython",
    "version": 3
   },
   "file_extension": ".py",
   "mimetype": "text/x-python",
   "name": "python",
   "nbconvert_exporter": "python",
   "pygments_lexer": "ipython3",
   "version": "3.11.7"
  }
 },
 "nbformat": 4,
 "nbformat_minor": 2
}
