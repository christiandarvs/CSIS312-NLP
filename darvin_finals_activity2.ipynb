{
 "cells": [
  {
   "cell_type": "markdown",
   "metadata": {},
   "source": [
    "## Tokenization in NLP with Python\n",
    "*Submitted by:*  \n",
    "**Christian Elijah Darvin**  \n",
    "BCS32  \n",
    "College of Information and Computer Studies - De La Salle University Dasmariñas"
   ]
  },
  {
   "cell_type": "code",
   "execution_count": 42,
   "metadata": {},
   "outputs": [
    {
     "name": "stderr",
     "output_type": "stream",
     "text": [
      "[nltk_data] Downloading package punkt to\n",
      "[nltk_data]     C:\\Users\\Chris\\AppData\\Roaming\\nltk_data...\n",
      "[nltk_data]   Package punkt is already up-to-date!\n",
      "[nltk_data] Downloading package stopwords to\n",
      "[nltk_data]     C:\\Users\\Chris\\AppData\\Roaming\\nltk_data...\n",
      "[nltk_data]   Package stopwords is already up-to-date!\n"
     ]
    }
   ],
   "source": [
    "import nltk\n",
    "import spacy\n",
    "from nltk.tokenize import word_tokenize, sent_tokenize\n",
    "from nltk.corpus import stopwords\n",
    "\n",
    "nltk.download(\"punkt\")\n",
    "nltk.download(\"stopwords\")\n",
    "\n",
    "nlp = spacy.load(\"en_core_web_sm\")"
   ]
  },
  {
   "cell_type": "markdown",
   "metadata": {},
   "source": [
    "### Part 1: Tokenizing Customer Feedback"
   ]
  },
  {
   "cell_type": "code",
   "execution_count": 43,
   "metadata": {},
   "outputs": [
    {
     "name": "stdout",
     "output_type": "stream",
     "text": [
      "NLTK Sentences: \n",
      "['Great product, but the software crashed twice in the last week.', 'The customer support team was very helpful, though.', 'Could improve the battery life.']\n",
      "\n",
      "NLTK Words: \n",
      "['Great', 'product', ',', 'but', 'the', 'software', 'crashed', 'twice', 'in', 'the', 'last', 'week', '.', 'The', 'customer', 'support', 'team', 'was', 'very', 'helpful', ',', 'though', '.', 'Could', 'improve', 'the', 'battery', 'life', '.']\n",
      "\n",
      "\n",
      "Spacy Words: \n",
      "['Great', 'product', ',', 'but', 'the', 'software', 'crashed', 'twice', 'in', 'the', 'last', 'week', '.', 'The', 'customer', 'support', 'team', 'was', 'very', 'helpful', ',', 'though', '.', 'Could', 'improve', 'the', 'battery', 'life', '.']\n"
     ]
    }
   ],
   "source": [
    "customer_feedback = \"Great product, but the software crashed twice in the last week. The customer support team was very helpful, though. Could improve the battery life.\"\n",
    "\n",
    "\n",
    "def nltk_tokenize(text):\n",
    "    sentences = sent_tokenize(text)\n",
    "    words = word_tokenize(text)\n",
    "    return sentences, words\n",
    "\n",
    "\n",
    "def spacy_tokenize(text):\n",
    "    doc = nlp(text)\n",
    "    spacy_tokens = [token.text for token in doc]\n",
    "    return spacy_tokens\n",
    "\n",
    "\n",
    "nltk_sentences, nltk_words = nltk_tokenize(customer_feedback)\n",
    "print(f\"NLTK Sentences: \\n{nltk_sentences}\\n\")\n",
    "print(f\"NLTK Words: \\n{nltk_words}\")\n",
    "print(\"\\n\")\n",
    "print(f\"Spacy Words: \\n{spacy_tokenize(customer_feedback)}\")"
   ]
  },
  {
   "cell_type": "markdown",
   "metadata": {},
   "source": [
    "### Part 2: Removing Stopwords "
   ]
  },
  {
   "cell_type": "code",
   "execution_count": 44,
   "metadata": {},
   "outputs": [
    {
     "name": "stdout",
     "output_type": "stream",
     "text": [
      "NLTK Remove Stopwords: \n",
      "['Great', 'product', ',', 'software', 'crashed', 'twice', 'last', 'week', '.', 'customer', 'support', 'team', 'helpful', ',', 'though', '.', 'Could', 'improve', 'battery', 'life', '.']\n",
      "\n",
      "Spacy Remove Stopwords: \n",
      "['Great', 'product', ',', 'software', 'crashed', 'twice', 'week', '.', 'customer', 'support', 'team', 'helpful', ',', '.', 'improve', 'battery', 'life', '.']\n"
     ]
    }
   ],
   "source": [
    "def remove_stopwords_nltk(text):\n",
    "    _, words = nltk_tokenize(text)\n",
    "    stop_words = set(stopwords.words(\"english\"))\n",
    "    return [word for word in words if word.lower() not in stop_words]\n",
    "\n",
    "\n",
    "def remove_stopwords_spacy(text):\n",
    "    doc = nlp(text)\n",
    "    return [token.text for token in doc if not token.is_stop]\n",
    "\n",
    "\n",
    "print(f\"NLTK Remove Stopwords: \\n{remove_stopwords_nltk(customer_feedback)}\\n\")\n",
    "print(f\"Spacy Remove Stopwords: \\n{remove_stopwords_spacy(customer_feedback)}\")"
   ]
  },
  {
   "cell_type": "markdown",
   "metadata": {},
   "source": [
    "### Part 3: Extracting Named Entities "
   ]
  },
  {
   "cell_type": "code",
   "execution_count": 45,
   "metadata": {},
   "outputs": [
    {
     "data": {
      "text/plain": [
       "[('the last week', 'DATE')]"
      ]
     },
     "execution_count": 45,
     "metadata": {},
     "output_type": "execute_result"
    }
   ],
   "source": [
    "def extract_named_entities(text):\n",
    "    doc = nlp(text)\n",
    "    return [(ent.text, ent.label_) for ent in doc.ents]\n",
    "\n",
    "\n",
    "extract_named_entities(customer_feedback)"
   ]
  }
 ],
 "metadata": {
  "kernelspec": {
   "display_name": "base",
   "language": "python",
   "name": "python3"
  },
  "language_info": {
   "codemirror_mode": {
    "name": "ipython",
    "version": 3
   },
   "file_extension": ".py",
   "mimetype": "text/x-python",
   "name": "python",
   "nbconvert_exporter": "python",
   "pygments_lexer": "ipython3",
   "version": "3.11.7"
  }
 },
 "nbformat": 4,
 "nbformat_minor": 2
}
