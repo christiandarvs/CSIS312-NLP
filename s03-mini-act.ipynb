{
 "cells": [
  {
   "cell_type": "markdown",
   "metadata": {},
   "source": [
    "## Twitter Sentiment Analysis"
   ]
  },
  {
   "cell_type": "code",
   "execution_count": 34,
   "metadata": {},
   "outputs": [],
   "source": [
    "import matplotlib.pyplot as plt\n",
    "import re\n",
    "from nltk.stem import WordNetLemmatizer\n",
    "from nltk.corpus import stopwords\n",
    "from nltk.tokenize import TweetTokenizer\n",
    "import string\n",
    "import numpy as np\n",
    "import pandas as pd\n",
    "import matplotlib.pyplot as plt\n",
    "import seaborn as sns\n",
    "from nltk.stem import PorterStemmer"
   ]
  },
  {
   "cell_type": "code",
   "execution_count": 35,
   "metadata": {},
   "outputs": [
    {
     "data": {
      "text/html": [
       "<div>\n",
       "<style scoped>\n",
       "    .dataframe tbody tr th:only-of-type {\n",
       "        vertical-align: middle;\n",
       "    }\n",
       "\n",
       "    .dataframe tbody tr th {\n",
       "        vertical-align: top;\n",
       "    }\n",
       "\n",
       "    .dataframe thead th {\n",
       "        text-align: right;\n",
       "    }\n",
       "</style>\n",
       "<table border=\"1\" class=\"dataframe\">\n",
       "  <thead>\n",
       "    <tr style=\"text-align: right;\">\n",
       "      <th></th>\n",
       "      <th>sentiment</th>\n",
       "      <th>text</th>\n",
       "    </tr>\n",
       "  </thead>\n",
       "  <tbody>\n",
       "    <tr>\n",
       "      <th>0</th>\n",
       "      <td>1</td>\n",
       "      <td>@tonigirl14 love you toooooo!! TG  LOL Gngb</td>\n",
       "    </tr>\n",
       "    <tr>\n",
       "      <th>1</th>\n",
       "      <td>0</td>\n",
       "      <td>@jun6lee I told myself: Don't click on this li...</td>\n",
       "    </tr>\n",
       "    <tr>\n",
       "      <th>2</th>\n",
       "      <td>0</td>\n",
       "      <td>The man who rendered his voice to Mickey Mouse...</td>\n",
       "    </tr>\n",
       "    <tr>\n",
       "      <th>3</th>\n",
       "      <td>1</td>\n",
       "      <td>@Shontelle_Layne I think red would be nice.  O...</td>\n",
       "    </tr>\n",
       "    <tr>\n",
       "      <th>4</th>\n",
       "      <td>0</td>\n",
       "      <td>@Silverlines - I guess. 'Cause one of her twee...</td>\n",
       "    </tr>\n",
       "    <tr>\n",
       "      <th>...</th>\n",
       "      <td>...</td>\n",
       "      <td>...</td>\n",
       "    </tr>\n",
       "    <tr>\n",
       "      <th>39995</th>\n",
       "      <td>0</td>\n",
       "      <td>@mileycyrus you saved my life. you taught me l...</td>\n",
       "    </tr>\n",
       "    <tr>\n",
       "      <th>39996</th>\n",
       "      <td>1</td>\n",
       "      <td>@Tisyonk Hey you Tisha</td>\n",
       "    </tr>\n",
       "    <tr>\n",
       "      <th>39997</th>\n",
       "      <td>1</td>\n",
       "      <td>@proteusguy I guess when Linux rules the world...</td>\n",
       "    </tr>\n",
       "    <tr>\n",
       "      <th>39998</th>\n",
       "      <td>0</td>\n",
       "      <td>baack  n now goin' to english, then doctor Â¬ ...</td>\n",
       "    </tr>\n",
       "    <tr>\n",
       "      <th>39999</th>\n",
       "      <td>1</td>\n",
       "      <td>Oh,and happy mother's day.</td>\n",
       "    </tr>\n",
       "  </tbody>\n",
       "</table>\n",
       "<p>40000 rows × 2 columns</p>\n",
       "</div>"
      ],
      "text/plain": [
       "       sentiment                                               text\n",
       "0              1        @tonigirl14 love you toooooo!! TG  LOL Gngb\n",
       "1              0  @jun6lee I told myself: Don't click on this li...\n",
       "2              0  The man who rendered his voice to Mickey Mouse...\n",
       "3              1  @Shontelle_Layne I think red would be nice.  O...\n",
       "4              0  @Silverlines - I guess. 'Cause one of her twee...\n",
       "...          ...                                                ...\n",
       "39995          0  @mileycyrus you saved my life. you taught me l...\n",
       "39996          1                            @Tisyonk Hey you Tisha \n",
       "39997          1  @proteusguy I guess when Linux rules the world...\n",
       "39998          0  baack  n now goin' to english, then doctor Â¬ ...\n",
       "39999          1                        Oh,and happy mother's day. \n",
       "\n",
       "[40000 rows x 2 columns]"
      ]
     },
     "execution_count": 35,
     "metadata": {},
     "output_type": "execute_result"
    }
   ],
   "source": [
    "tweets = pd.read_csv(\"./data/twitter_dataset.csv\", index_col=0)\n",
    "tweets"
   ]
  },
  {
   "cell_type": "code",
   "execution_count": 36,
   "metadata": {},
   "outputs": [
    {
     "name": "stdout",
     "output_type": "stream",
     "text": [
      "<class 'pandas.core.frame.DataFrame'>\n",
      "Index: 40000 entries, 0 to 39999\n",
      "Data columns (total 2 columns):\n",
      " #   Column     Non-Null Count  Dtype \n",
      "---  ------     --------------  ----- \n",
      " 0   sentiment  40000 non-null  int64 \n",
      " 1   text       40000 non-null  object\n",
      "dtypes: int64(1), object(1)\n",
      "memory usage: 937.5+ KB\n"
     ]
    }
   ],
   "source": [
    "tweets.info()"
   ]
  },
  {
   "cell_type": "code",
   "execution_count": 37,
   "metadata": {},
   "outputs": [
    {
     "data": {
      "text/plain": [
       "(40000, 2)"
      ]
     },
     "execution_count": 37,
     "metadata": {},
     "output_type": "execute_result"
    }
   ],
   "source": [
    "tweets.shape"
   ]
  },
  {
   "cell_type": "code",
   "execution_count": 38,
   "metadata": {},
   "outputs": [
    {
     "data": {
      "image/png": "[encoded data removed]",
      "text/plain": [
       "<Figure size 640x480 with 1 Axes>"
      ]
     },
     "metadata": {},
     "output_type": "display_data"
    }
   ],
   "source": [
    "labels = [\"Positive\", \"Negative\"]\n",
    "sizes = [len(tweets[tweets[\"sentiment\"] == 1]), len(tweets[tweets[\"sentiment\"] == 0])]\n",
    "colors = [\"#66b3ff\", \"#ff6666\"]\n",
    "\n",
    "plt.pie(sizes, labels=labels, colors=colors, autopct=\"%1.1f%%\", startangle=90)\n",
    "plt.axis(\"equal\")\n",
    "plt.show()"
   ]
  },
  {
   "cell_type": "code",
   "execution_count": 39,
   "metadata": {},
   "outputs": [],
   "source": [
    "def process_tweet(tweet):\n",
    "    \"\"\"Process tweet function.\n",
    "    Input:\n",
    "        tweet: a string containing a tweet\n",
    "    Output:\n",
    "        tweets_clean: a list of words containing the processed tweet\n",
    "    \"\"\"\n",
    "\n",
    "    stemmer = WordNetLemmatizer()\n",
    "    stopwords_english = stopwords.words(\"english\")\n",
    "\n",
    "    tweet = re.sub(r\"\\$\\w*\", \"\", tweet)\n",
    "    tweet = re.sub(r\"^RT[\\s]+\", \"\", tweet)\n",
    "    tweet = re.sub(r\"https?://[^\\s\\n\\r]+\", \"\", tweet)\n",
    "    tweet = re.sub(r\"#\", \"\", tweet)\n",
    "\n",
    "    tokenizer = TweetTokenizer(preserve_case=False, strip_handles=True, reduce_len=True)\n",
    "    tweet_tokens = tokenizer.tokenize(tweet)\n",
    "\n",
    "    tweets_clean = []\n",
    "    for word in tweet_tokens:\n",
    "        if word not in stopwords_english and word not in string.punctuation:\n",
    "            stem_word = stemmer.lemmatize(word)\n",
    "            tweets_clean.append(stem_word)\n",
    "    return tweets_clean"
   ]
  },
  {
   "cell_type": "code",
   "execution_count": 40,
   "metadata": {},
   "outputs": [
    {
     "name": "stdout",
     "output_type": "stream",
     "text": [
      "The man who rendered his voice to Mickey Mouse expired. He was 62 years old!  i'm a Mickey fan!\n",
      "man rendered voice mickey mouse expired 62 year old i'm mickey fan\n"
     ]
    }
   ],
   "source": [
    "# Assuming 'text' is the column containing the tweet text\n",
    "tweet_text = tweets.loc[2, \"text\"]\n",
    "\n",
    "print(tweet_text)\n",
    "print(\" \".join(process_tweet(tweet_text)))"
   ]
  },
  {
   "cell_type": "code",
   "execution_count": 41,
   "metadata": {},
   "outputs": [
    {
     "data": {
      "text/html": [
       "<div>\n",
       "<style scoped>\n",
       "    .dataframe tbody tr th:only-of-type {\n",
       "        vertical-align: middle;\n",
       "    }\n",
       "\n",
       "    .dataframe tbody tr th {\n",
       "        vertical-align: top;\n",
       "    }\n",
       "\n",
       "    .dataframe thead th {\n",
       "        text-align: right;\n",
       "    }\n",
       "</style>\n",
       "<table border=\"1\" class=\"dataframe\">\n",
       "  <thead>\n",
       "    <tr style=\"text-align: right;\">\n",
       "      <th></th>\n",
       "      <th>sentiment</th>\n",
       "      <th>text</th>\n",
       "    </tr>\n",
       "  </thead>\n",
       "  <tbody>\n",
       "    <tr>\n",
       "      <th>0</th>\n",
       "      <td>1</td>\n",
       "      <td>love tooo tg lol gngb</td>\n",
       "    </tr>\n",
       "    <tr>\n",
       "      <th>1</th>\n",
       "      <td>0</td>\n",
       "      <td>told click link booohooo</td>\n",
       "    </tr>\n",
       "    <tr>\n",
       "      <th>2</th>\n",
       "      <td>0</td>\n",
       "      <td>man rendered voice mickey mouse expired 62 yea...</td>\n",
       "    </tr>\n",
       "    <tr>\n",
       "      <th>3</th>\n",
       "      <td>1</td>\n",
       "      <td>think red would nice maybe could mix red black</td>\n",
       "    </tr>\n",
       "    <tr>\n",
       "      <th>4</th>\n",
       "      <td>0</td>\n",
       "      <td>guess cause one tweet say confused</td>\n",
       "    </tr>\n",
       "  </tbody>\n",
       "</table>\n",
       "</div>"
      ],
      "text/plain": [
       "   sentiment                                               text\n",
       "0          1                              love tooo tg lol gngb\n",
       "1          0                           told click link booohooo\n",
       "2          0  man rendered voice mickey mouse expired 62 yea...\n",
       "3          1     think red would nice maybe could mix red black\n",
       "4          0                 guess cause one tweet say confused"
      ]
     },
     "execution_count": 41,
     "metadata": {},
     "output_type": "execute_result"
    }
   ],
   "source": [
    "tweets[\"text\"] = tweets[\"text\"].apply(lambda x: process_tweet(x))\n",
    "tweets[\"text\"] = tweets[\"text\"].apply(lambda x: \" \".join(x))\n",
    "\n",
    "processed_df = tweets\n",
    "processed_df.head()"
   ]
  },
  {
   "cell_type": "code",
   "execution_count": 42,
   "metadata": {},
   "outputs": [
    {
     "name": "stdout",
     "output_type": "stream",
     "text": [
      "love tooo tg lol gngb \n",
      "\n",
      "told click link booohooo \n",
      "\n",
      "man rendered voice mickey mouse expired 62 year old i'm mickey fan \n",
      "\n",
      "think red would nice maybe could mix red black \n",
      "\n",
      "guess cause one tweet say confused \n",
      "\n"
     ]
    }
   ],
   "source": [
    "for i in range(5):\n",
    "    print(processed_df.loc[i][\"text\"], \"\\n\")"
   ]
  },
  {
   "cell_type": "code",
   "execution_count": 59,
   "metadata": {},
   "outputs": [],
   "source": [
    "from sklearn.feature_extraction.text import TfidfVectorizer\n",
    "from sklearn.model_selection import train_test_split\n",
    "from sklearn.linear_model import LogisticRegression\n",
    "from sklearn.metrics import accuracy_score\n",
    "\n",
    "vectorizer = TfidfVectorizer(stop_words=\"english\", ngram_range=(1, 2))\n",
    "X = vectorizer.fit_transform(processed_df[\"text\"])\n",
    "y = tweets[\"sentiment\"]\n",
    "\n",
    "X_train, X_test, y_train, y_test = train_test_split(\n",
    "    X, y, test_size=0.3, random_state=42\n",
    ")"
   ]
  },
  {
   "cell_type": "code",
   "execution_count": 61,
   "metadata": {},
   "outputs": [
    {
     "name": "stdout",
     "output_type": "stream",
     "text": [
      "Accuracy: 0.75125\n"
     ]
    }
   ],
   "source": [
    "model = LogisticRegression(class_weight=\"balanced\")\n",
    "model.fit(X_train, y_train)\n",
    "y_pred = model.predict(X_test)\n",
    "\n",
    "\n",
    "print(f\"Accuracy: {accuracy_score(y_test, y_pred)}\")"
   ]
  },
  {
   "cell_type": "code",
   "execution_count": 52,
   "metadata": {},
   "outputs": [
    {
     "name": "stdout",
     "output_type": "stream",
     "text": [
      "[1 1 1 1 1 1 0 0 1 0 1 1 1 1 1]\n"
     ]
    }
   ],
   "source": [
    "new_tweets = [\n",
    "    \"@TechieTom Just finished a deep dive into ML algorithms. Excited to apply what I have learned! #AI #DataScience\",\n",
    "    \"@DataNerd99 Exploring data visualization today. Amazing how a good graph tells a story—feeling inspired! #DataViz #Python\",\n",
    "    \"@FlutterFan23 Who else is using Flutter? Love how easy it is to create beautiful UIs! #AppDev\",\n",
    "    \"@CodingChick Had a productive study session. Ready to tackle algorithms next week! #ComputerScience\",\n",
    "    \"@MLJourney Reading 'Hands-On ML' and feeling inspired. Can not wait to implement more projects! #ML #Learning\",\n",
    "    \"@CoffeeCoder Coffee and coding are the best combo. What is your study fuel? #StudentLife\",\n",
    "    \"@ResearchRover Just submitted my research proposal. Nervous but hopeful! #Research #AcademicLife\",\n",
    "    \"@DataExplorer Learning about EDA in ML projects. Data speaks for itself—such an eye-opener! #DataScience\",\n",
    "    \"@StudyBuddy21 Summer break is almost over. Excited but anxious for new challenges! #BackToSchool\",\n",
    "    \"@LanguageLover Trying to improve my English. Feeling overwhelmed—any tips? #LanguageLearning\",\n",
    "    \"@TitanicDataPro Completed a project using the Titanic dataset. Proud of my progress with pandas! #DataScience\",\n",
    "    \"@MusicForCoders Looking for new music to code to. Feeling stuck—recommendations? #Music #Coding\",\n",
    "    \"@FinanceDev Excited to start my financial literacy app. Empowering students feels rewarding! #FinTech #AppDev\",\n",
    "    \"@LatexLearner Spent the day learning LaTeX. Feeling accomplished but have more to learn! #AcademicLife #Writing\",\n",
    "    \"@RainyDayCoder Enjoying the rainy vibes while working on projects. Hope it does not distract me too much! #Philippines #Productivity\",\n",
    "]\n",
    "\n",
    "processed_tweet = [\" \".join(process_tweet(tweet)) for tweet in new_tweets]\n",
    "\n",
    "test_utterances_tfidf = vectorizer.transform(processed_tweet)\n",
    "predictions = model.predict(test_utterances_tfidf)\n",
    "\n",
    "print(predictions)"
   ]
  },
  {
   "cell_type": "code",
   "execution_count": 53,
   "metadata": {},
   "outputs": [
    {
     "name": "stdout",
     "output_type": "stream",
     "text": [
      "First 5 new tweets:\n",
      "\n",
      "@TechieTom Just finished a deep dive into ML algorithms. Excited to apply what I have learned! #AI #DataScience\n",
      "@DataNerd99 Exploring data visualization today. Amazing how a good graph tells a story—feeling inspired! #DataViz #Python\n",
      "@FlutterFan23 Who else is using Flutter? Love how easy it is to create beautiful UIs! #AppDev\n",
      "@CodingChick Had a productive study session. Ready to tackle algorithms next week! #ComputerScience\n",
      "@MLJourney Reading 'Hands-On ML' and feeling inspired. Can not wait to implement more projects! #ML #Learning\n"
     ]
    }
   ],
   "source": [
    "print(f\"First 5 new tweets:\\n\")\n",
    "for _ in range(5):\n",
    "    print(new_tweets[_])"
   ]
  },
  {
   "cell_type": "code",
   "execution_count": 54,
   "metadata": {},
   "outputs": [
    {
     "name": "stdout",
     "output_type": "stream",
     "text": [
      "First 5 processed new tweets:\n",
      "\n",
      "finished deep dive ml algorithm excited apply learned ai datascience\n",
      "exploring data visualization today amazing good graph tell story — feeling inspired dataviz python\n",
      "else using flutter love easy create beautiful uis appdev\n",
      "productive study session ready tackle algorithm next week computerscience\n",
      "reading hands-on ml feeling inspired wait implement project ml learning\n"
     ]
    }
   ],
   "source": [
    "print(f\"First 5 processed new tweets:\\n\")\n",
    "for _ in range(5):\n",
    "    print(processed_tweet[_])"
   ]
  }
 ],
 "metadata": {
  "kernelspec": {
   "display_name": "base",
   "language": "python",
   "name": "python3"
  },
  "language_info": {
   "codemirror_mode": {
    "name": "ipython",
    "version": 3
   },
   "file_extension": ".py",
   "mimetype": "text/x-python",
   "name": "python",
   "nbconvert_exporter": "python",
   "pygments_lexer": "ipython3",
   "version": "3.11.7"
  }
 },
 "nbformat": 4,
 "nbformat_minor": 2
}
