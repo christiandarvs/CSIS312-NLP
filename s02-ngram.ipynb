{
 "cells": [
  {
   "cell_type": "code",
   "execution_count": 2,
   "metadata": {},
   "outputs": [
    {
     "name": "stdout",
     "output_type": "stream",
     "text": [
      "\n",
      "Generated text based on text1:\n",
      "No matching n-gram found.\n",
      "\n",
      "Generated text based on text2:\n",
      "Auto-complete Suggestion:  Data science is an interdisciplinary field that uses scientific methods.\n"
     ]
    }
   ],
   "source": [
    "import random\n",
    "from collections import defaultdict\n",
    "\n",
    "\n",
    "def build_ngram_model(text, n):\n",
    "    ngrams = defaultdict(list)\n",
    "    words = text.split()\n",
    "\n",
    "    for i in range(len(words) - n + 1):\n",
    "        gram = tuple(words[i : i + n])\n",
    "        next_word = words[i + n] if i + n < len(words) else None\n",
    "\n",
    "        if next_word:\n",
    "            ngrams[gram].append(next_word)\n",
    "\n",
    "    return ngrams\n",
    "\n",
    "\n",
    "def generate_text(ngrams, user_input, n, max_words=10):\n",
    "    input_words = user_input.split()\n",
    "    matching_grams = [gram for gram in ngrams if gram[-1] == input_words[-1]]\n",
    "\n",
    "    if not matching_grams:\n",
    "        print(\"No matching n-gram found.\")\n",
    "        return\n",
    "\n",
    "    current_gram = random.choice(matching_grams)\n",
    "    result = list(current_gram)\n",
    "\n",
    "    for _ in range(max_words):\n",
    "        if current_gram in ngrams and ngrams[current_gram]:\n",
    "            next_word = random.choice(ngrams[current_gram])\n",
    "            result.append(next_word)\n",
    "            current_gram = tuple(result[-n:])\n",
    "        else:\n",
    "            break\n",
    "\n",
    "    print(\"Auto-complete Suggestion: \", \" \".join(result))\n",
    "\n",
    "\n",
    "# Sample texts\n",
    "text1 = \"The quick brown fox jumps over the lazy dog.\"\n",
    "text2 = \"Data science is an interdisciplinary field that uses scientific methods.\"\n",
    "\n",
    "# Get n-gram value from the user\n",
    "n = int(\n",
    "    input(\"Enter n-value for n-grams (e.g., 2 for bigrams, 3 for trigrams, etc.): \")\n",
    ")\n",
    "\n",
    "# Build n-gram model for text1 and text2\n",
    "ngrams1 = build_ngram_model(text1, n)\n",
    "ngrams2 = build_ngram_model(text2, n)\n",
    "\n",
    "# Get user input for text generation\n",
    "user_input = input(\"Enter a word or phrase to start: \")\n",
    "\n",
    "# Generate text based on the n-gram model for text1\n",
    "print(\"\\nGenerated text based on text1:\")\n",
    "generate_text(ngrams1, user_input, n)\n",
    "\n",
    "# Generate text based on the n-gram model for text2\n",
    "print(\"\\nGenerated text based on text2:\")\n",
    "generate_text(ngrams2, user_input, n)"
   ]
  }
 ],
 "metadata": {
  "kernelspec": {
   "display_name": "base",
   "language": "python",
   "name": "python3"
  },
  "language_info": {
   "codemirror_mode": {
    "name": "ipython",
    "version": 3
   },
   "file_extension": ".py",
   "mimetype": "text/x-python",
   "name": "python",
   "nbconvert_exporter": "python",
   "pygments_lexer": "ipython3",
   "version": "3.11.7"
  }
 },
 "nbformat": 4,
 "nbformat_minor": 2
}
